{
 "cells": [
  {
   "cell_type": "markdown",
   "metadata": {},
   "source": [
    "# Data Cleaning "
   ]
  },
  {
   "cell_type": "code",
   "execution_count": 30,
   "metadata": {},
   "outputs": [],
   "source": [
    "import pandas as pd\n",
    "import re\n"
   ]
  },
  {
   "cell_type": "markdown",
   "metadata": {},
   "source": [
    "# Arabic Quran"
   ]
  },
  {
   "cell_type": "code",
   "execution_count": 6,
   "metadata": {},
   "outputs": [
    {
     "data": {
      "text/html": [
       "<div>\n",
       "<style scoped>\n",
       "    .dataframe tbody tr th:only-of-type {\n",
       "        vertical-align: middle;\n",
       "    }\n",
       "\n",
       "    .dataframe tbody tr th {\n",
       "        vertical-align: top;\n",
       "    }\n",
       "\n",
       "    .dataframe thead th {\n",
       "        text-align: right;\n",
       "    }\n",
       "</style>\n",
       "<table border=\"1\" class=\"dataframe\">\n",
       "  <thead>\n",
       "    <tr style=\"text-align: right;\">\n",
       "      <th></th>\n",
       "      <th>chapter_num</th>\n",
       "      <th>verse_num</th>\n",
       "      <th>verse</th>\n",
       "    </tr>\n",
       "  </thead>\n",
       "  <tbody>\n",
       "    <tr>\n",
       "      <th>0</th>\n",
       "      <td>1</td>\n",
       "      <td>1.0</td>\n",
       "      <td>بِسْمِ اللَّهِ الرَّحْمَٰنِ الرَّحِيمِ</td>\n",
       "    </tr>\n",
       "    <tr>\n",
       "      <th>1</th>\n",
       "      <td>1</td>\n",
       "      <td>2.0</td>\n",
       "      <td>الْحَمْدُ لِلَّهِ رَبِّ الْعَالَمِينَ</td>\n",
       "    </tr>\n",
       "    <tr>\n",
       "      <th>2</th>\n",
       "      <td>1</td>\n",
       "      <td>3.0</td>\n",
       "      <td>الرَّحْمَٰنِ الرَّحِيمِ</td>\n",
       "    </tr>\n",
       "    <tr>\n",
       "      <th>3</th>\n",
       "      <td>1</td>\n",
       "      <td>4.0</td>\n",
       "      <td>مَالِكِ يَوْمِ الدِّينِ</td>\n",
       "    </tr>\n",
       "    <tr>\n",
       "      <th>4</th>\n",
       "      <td>1</td>\n",
       "      <td>5.0</td>\n",
       "      <td>إِيَّاكَ نَعْبُدُ وَإِيَّاكَ نَسْتَعِينُ</td>\n",
       "    </tr>\n",
       "  </tbody>\n",
       "</table>\n",
       "</div>"
      ],
      "text/plain": [
       "  chapter_num  verse_num                                     verse\n",
       "0           1        1.0    بِسْمِ اللَّهِ الرَّحْمَٰنِ الرَّحِيمِ\n",
       "1           1        2.0     الْحَمْدُ لِلَّهِ رَبِّ الْعَالَمِينَ\n",
       "2           1        3.0                   الرَّحْمَٰنِ الرَّحِيمِ\n",
       "3           1        4.0                   مَالِكِ يَوْمِ الدِّينِ\n",
       "4           1        5.0  إِيَّاكَ نَعْبُدُ وَإِيَّاكَ نَسْتَعِينُ"
      ]
     },
     "execution_count": 6,
     "metadata": {},
     "output_type": "execute_result"
    }
   ],
   "source": [
    "quran_A = pd.read_csv(\"../data/quran-simple.txt\", names=[\"chapter_num\", \"verse_num\", \"verse\"], sep=\"|\" )\n",
    "quran_A.head()"
   ]
  },
  {
   "cell_type": "code",
   "execution_count": 13,
   "metadata": {},
   "outputs": [
    {
     "name": "stdout",
     "output_type": "stream",
     "text": [
      "<class 'pandas.core.frame.DataFrame'>\n",
      "RangeIndex: 6264 entries, 0 to 6263\n",
      "Data columns (total 3 columns):\n",
      " #   Column       Non-Null Count  Dtype  \n",
      "---  ------       --------------  -----  \n",
      " 0   chapter_num  6264 non-null   object \n",
      " 1   verse_num    6236 non-null   float64\n",
      " 2   verse        6236 non-null   object \n",
      "dtypes: float64(1), object(2)\n",
      "memory usage: 146.9+ KB\n"
     ]
    }
   ],
   "source": [
    "quran_A.info()"
   ]
  },
  {
   "cell_type": "code",
   "execution_count": 15,
   "metadata": {},
   "outputs": [
    {
     "data": {
      "text/html": [
       "<div>\n",
       "<style scoped>\n",
       "    .dataframe tbody tr th:only-of-type {\n",
       "        vertical-align: middle;\n",
       "    }\n",
       "\n",
       "    .dataframe tbody tr th {\n",
       "        vertical-align: top;\n",
       "    }\n",
       "\n",
       "    .dataframe thead th {\n",
       "        text-align: right;\n",
       "    }\n",
       "</style>\n",
       "<table border=\"1\" class=\"dataframe\">\n",
       "  <thead>\n",
       "    <tr style=\"text-align: right;\">\n",
       "      <th></th>\n",
       "      <th>chapter_num</th>\n",
       "      <th>verse_num</th>\n",
       "      <th>verse</th>\n",
       "    </tr>\n",
       "  </thead>\n",
       "  <tbody>\n",
       "    <tr>\n",
       "      <th>6236</th>\n",
       "      <td># PLEASE DO NOT REMOVE OR CHANGE THIS COPYRIGH...</td>\n",
       "      <td>NaN</td>\n",
       "      <td>NaN</td>\n",
       "    </tr>\n",
       "    <tr>\n",
       "      <th>6237</th>\n",
       "      <td>#=============================================...</td>\n",
       "      <td>NaN</td>\n",
       "      <td>NaN</td>\n",
       "    </tr>\n",
       "    <tr>\n",
       "      <th>6238</th>\n",
       "      <td>#</td>\n",
       "      <td>NaN</td>\n",
       "      <td>NaN</td>\n",
       "    </tr>\n",
       "    <tr>\n",
       "      <th>6239</th>\n",
       "      <td>#  Tanzil Quran Text (Simple, Version 1.1)</td>\n",
       "      <td>NaN</td>\n",
       "      <td>NaN</td>\n",
       "    </tr>\n",
       "    <tr>\n",
       "      <th>6240</th>\n",
       "      <td>#  Copyright (C) 2007-2022 Tanzil Project</td>\n",
       "      <td>NaN</td>\n",
       "      <td>NaN</td>\n",
       "    </tr>\n",
       "    <tr>\n",
       "      <th>6241</th>\n",
       "      <td>#  License: Creative Commons Attribution 3.0</td>\n",
       "      <td>NaN</td>\n",
       "      <td>NaN</td>\n",
       "    </tr>\n",
       "    <tr>\n",
       "      <th>6242</th>\n",
       "      <td>#</td>\n",
       "      <td>NaN</td>\n",
       "      <td>NaN</td>\n",
       "    </tr>\n",
       "    <tr>\n",
       "      <th>6243</th>\n",
       "      <td>#  This copy of the Quran text is carefully pr...</td>\n",
       "      <td>NaN</td>\n",
       "      <td>NaN</td>\n",
       "    </tr>\n",
       "    <tr>\n",
       "      <th>6244</th>\n",
       "      <td>#  verified and continuously monitored by a gr...</td>\n",
       "      <td>NaN</td>\n",
       "      <td>NaN</td>\n",
       "    </tr>\n",
       "    <tr>\n",
       "      <th>6245</th>\n",
       "      <td>#  at Tanzil Project.</td>\n",
       "      <td>NaN</td>\n",
       "      <td>NaN</td>\n",
       "    </tr>\n",
       "    <tr>\n",
       "      <th>6246</th>\n",
       "      <td>#</td>\n",
       "      <td>NaN</td>\n",
       "      <td>NaN</td>\n",
       "    </tr>\n",
       "    <tr>\n",
       "      <th>6247</th>\n",
       "      <td>#  TERMS OF USE:</td>\n",
       "      <td>NaN</td>\n",
       "      <td>NaN</td>\n",
       "    </tr>\n",
       "    <tr>\n",
       "      <th>6248</th>\n",
       "      <td>#</td>\n",
       "      <td>NaN</td>\n",
       "      <td>NaN</td>\n",
       "    </tr>\n",
       "    <tr>\n",
       "      <th>6249</th>\n",
       "      <td>#  - Permission is granted to copy and distrib...</td>\n",
       "      <td>NaN</td>\n",
       "      <td>NaN</td>\n",
       "    </tr>\n",
       "    <tr>\n",
       "      <th>6250</th>\n",
       "      <td>#    of this text, but CHANGING IT IS NOT ALLO...</td>\n",
       "      <td>NaN</td>\n",
       "      <td>NaN</td>\n",
       "    </tr>\n",
       "    <tr>\n",
       "      <th>6251</th>\n",
       "      <td>#</td>\n",
       "      <td>NaN</td>\n",
       "      <td>NaN</td>\n",
       "    </tr>\n",
       "    <tr>\n",
       "      <th>6252</th>\n",
       "      <td>#  - This Quran text can be used in any websit...</td>\n",
       "      <td>NaN</td>\n",
       "      <td>NaN</td>\n",
       "    </tr>\n",
       "    <tr>\n",
       "      <th>6253</th>\n",
       "      <td>#    provided that its source (Tanzil Project)...</td>\n",
       "      <td>NaN</td>\n",
       "      <td>NaN</td>\n",
       "    </tr>\n",
       "    <tr>\n",
       "      <th>6254</th>\n",
       "      <td>#    and a link is made to tanzil.net to enabl...</td>\n",
       "      <td>NaN</td>\n",
       "      <td>NaN</td>\n",
       "    </tr>\n",
       "    <tr>\n",
       "      <th>6255</th>\n",
       "      <td>#    track of changes.</td>\n",
       "      <td>NaN</td>\n",
       "      <td>NaN</td>\n",
       "    </tr>\n",
       "    <tr>\n",
       "      <th>6256</th>\n",
       "      <td>#</td>\n",
       "      <td>NaN</td>\n",
       "      <td>NaN</td>\n",
       "    </tr>\n",
       "    <tr>\n",
       "      <th>6257</th>\n",
       "      <td>#  - This copyright notice shall be included i...</td>\n",
       "      <td>NaN</td>\n",
       "      <td>NaN</td>\n",
       "    </tr>\n",
       "    <tr>\n",
       "      <th>6258</th>\n",
       "      <td>#    of the text, and shall be reproduced appr...</td>\n",
       "      <td>NaN</td>\n",
       "      <td>NaN</td>\n",
       "    </tr>\n",
       "    <tr>\n",
       "      <th>6259</th>\n",
       "      <td>#    derived from or containing substantial po...</td>\n",
       "      <td>NaN</td>\n",
       "      <td>NaN</td>\n",
       "    </tr>\n",
       "    <tr>\n",
       "      <th>6260</th>\n",
       "      <td>#</td>\n",
       "      <td>NaN</td>\n",
       "      <td>NaN</td>\n",
       "    </tr>\n",
       "    <tr>\n",
       "      <th>6261</th>\n",
       "      <td>#  Please check updates at: http://tanzil.net/...</td>\n",
       "      <td>NaN</td>\n",
       "      <td>NaN</td>\n",
       "    </tr>\n",
       "    <tr>\n",
       "      <th>6262</th>\n",
       "      <td>#</td>\n",
       "      <td>NaN</td>\n",
       "      <td>NaN</td>\n",
       "    </tr>\n",
       "    <tr>\n",
       "      <th>6263</th>\n",
       "      <td>#=============================================...</td>\n",
       "      <td>NaN</td>\n",
       "      <td>NaN</td>\n",
       "    </tr>\n",
       "  </tbody>\n",
       "</table>\n",
       "</div>"
      ],
      "text/plain": [
       "                                            chapter_num  verse_num verse\n",
       "6236  # PLEASE DO NOT REMOVE OR CHANGE THIS COPYRIGH...        NaN   NaN\n",
       "6237  #=============================================...        NaN   NaN\n",
       "6238                                                  #        NaN   NaN\n",
       "6239         #  Tanzil Quran Text (Simple, Version 1.1)        NaN   NaN\n",
       "6240          #  Copyright (C) 2007-2022 Tanzil Project        NaN   NaN\n",
       "6241       #  License: Creative Commons Attribution 3.0        NaN   NaN\n",
       "6242                                                  #        NaN   NaN\n",
       "6243  #  This copy of the Quran text is carefully pr...        NaN   NaN\n",
       "6244  #  verified and continuously monitored by a gr...        NaN   NaN\n",
       "6245                              #  at Tanzil Project.        NaN   NaN\n",
       "6246                                                  #        NaN   NaN\n",
       "6247                                   #  TERMS OF USE:        NaN   NaN\n",
       "6248                                                  #        NaN   NaN\n",
       "6249  #  - Permission is granted to copy and distrib...        NaN   NaN\n",
       "6250  #    of this text, but CHANGING IT IS NOT ALLO...        NaN   NaN\n",
       "6251                                                  #        NaN   NaN\n",
       "6252  #  - This Quran text can be used in any websit...        NaN   NaN\n",
       "6253  #    provided that its source (Tanzil Project)...        NaN   NaN\n",
       "6254  #    and a link is made to tanzil.net to enabl...        NaN   NaN\n",
       "6255                             #    track of changes.        NaN   NaN\n",
       "6256                                                  #        NaN   NaN\n",
       "6257  #  - This copyright notice shall be included i...        NaN   NaN\n",
       "6258  #    of the text, and shall be reproduced appr...        NaN   NaN\n",
       "6259  #    derived from or containing substantial po...        NaN   NaN\n",
       "6260                                                  #        NaN   NaN\n",
       "6261  #  Please check updates at: http://tanzil.net/...        NaN   NaN\n",
       "6262                                                  #        NaN   NaN\n",
       "6263  #=============================================...        NaN   NaN"
      ]
     },
     "execution_count": 15,
     "metadata": {},
     "output_type": "execute_result"
    }
   ],
   "source": [
    "quran_A[quran_A.verse.isnull()]"
   ]
  },
  {
   "cell_type": "code",
   "execution_count": 17,
   "metadata": {},
   "outputs": [],
   "source": [
    "quran_A.dropna(inplace=True)"
   ]
  },
  {
   "cell_type": "code",
   "execution_count": 19,
   "metadata": {},
   "outputs": [
    {
     "name": "stdout",
     "output_type": "stream",
     "text": [
      "<class 'pandas.core.frame.DataFrame'>\n",
      "Int64Index: 6236 entries, 0 to 6235\n",
      "Data columns (total 3 columns):\n",
      " #   Column       Non-Null Count  Dtype \n",
      "---  ------       --------------  ----- \n",
      " 0   chapter_num  6236 non-null   int64 \n",
      " 1   verse_num    6236 non-null   int64 \n",
      " 2   verse        6236 non-null   object\n",
      "dtypes: int64(2), object(1)\n",
      "memory usage: 194.9+ KB\n"
     ]
    }
   ],
   "source": [
    "quran_A[\"chapter_num\"]=quran_A.chapter_num.astype(int)\n",
    "quran_A[\"verse_num\"]=quran_A.verse_num.astype(int)\n",
    "quran_A.info()"
   ]
  },
  {
   "cell_type": "code",
   "execution_count": 74,
   "metadata": {},
   "outputs": [
    {
     "data": {
      "text/plain": [
       "'اتَّخَذُوا أَحْبَارَهُمْ وَرُهْبَانَهُمْ أَرْبَابًا مِّن دُونِ اللَّهِ وَالْمَسِيحَ ابْنَ مَرْيَمَ وَمَا أُمِرُوا إِلَّا لِيَعْبُدُوا إِلَٰهًا وَاحِدًا لَّا إِلَٰهَ إِلَّا هُوَ سُبْحَانَهُ عَمَّا يُشْرِكُونَ'"
      ]
     },
     "execution_count": 74,
     "metadata": {},
     "output_type": "execute_result"
    }
   ],
   "source": [
    "quran_A.verse[1265] "
   ]
  },
  {
   "cell_type": "code",
   "execution_count": 77,
   "metadata": {},
   "outputs": [
    {
     "data": {
      "text/plain": [
       "'اتخذوا أحبارهم ورهبانهم أربابا من دون الله والمسيح ابن مريم وما أمروا إلا ليعبدوا إلها واحدا لا إله إلا هو سبحانه عما يشركون'"
      ]
     },
     "execution_count": 77,
     "metadata": {},
     "output_type": "execute_result"
    }
   ],
   "source": [
    "def A_cleaning(aya):\n",
    "    #aya = re.sub(\"ًا\",\"\",aya)\n",
    "    aya = re.sub(\"[ًًٌٌٍٍَُِّّْٰٓٓ]\",\"\",aya)\n",
    "    aya = re.sub(\"[آ]\",\"ا\",aya)\n",
    "    return aya\n",
    "\n",
    "A_cleaning(quran_A.verse[1265])"
   ]
  },
  {
   "cell_type": "code",
   "execution_count": 89,
   "metadata": {},
   "outputs": [
    {
     "data": {
      "text/html": [
       "<div>\n",
       "<style scoped>\n",
       "    .dataframe tbody tr th:only-of-type {\n",
       "        vertical-align: middle;\n",
       "    }\n",
       "\n",
       "    .dataframe tbody tr th {\n",
       "        vertical-align: top;\n",
       "    }\n",
       "\n",
       "    .dataframe thead th {\n",
       "        text-align: right;\n",
       "    }\n",
       "</style>\n",
       "<table border=\"1\" class=\"dataframe\">\n",
       "  <thead>\n",
       "    <tr style=\"text-align: right;\">\n",
       "      <th></th>\n",
       "      <th>chapter_num</th>\n",
       "      <th>verse_num</th>\n",
       "      <th>verse</th>\n",
       "    </tr>\n",
       "  </thead>\n",
       "  <tbody>\n",
       "    <tr>\n",
       "      <th>0</th>\n",
       "      <td>1</td>\n",
       "      <td>1</td>\n",
       "      <td>بِسْمِ اللَّهِ الرَّحْمَٰنِ الرَّحِيمِ</td>\n",
       "    </tr>\n",
       "    <tr>\n",
       "      <th>7</th>\n",
       "      <td>2</td>\n",
       "      <td>1</td>\n",
       "      <td>بِسْمِ اللَّهِ الرَّحْمَٰنِ الرَّحِيمِ الم</td>\n",
       "    </tr>\n",
       "    <tr>\n",
       "      <th>293</th>\n",
       "      <td>3</td>\n",
       "      <td>1</td>\n",
       "      <td>بِسْمِ اللَّهِ الرَّحْمَٰنِ الرَّحِيمِ الم</td>\n",
       "    </tr>\n",
       "    <tr>\n",
       "      <th>493</th>\n",
       "      <td>4</td>\n",
       "      <td>1</td>\n",
       "      <td>بِسْمِ اللَّهِ الرَّحْمَٰنِ الرَّحِيمِ يَا أَي...</td>\n",
       "    </tr>\n",
       "    <tr>\n",
       "      <th>669</th>\n",
       "      <td>5</td>\n",
       "      <td>1</td>\n",
       "      <td>بِسْمِ اللَّهِ الرَّحْمَٰنِ الرَّحِيمِ يَا أَي...</td>\n",
       "    </tr>\n",
       "    <tr>\n",
       "      <th>...</th>\n",
       "      <td>...</td>\n",
       "      <td>...</td>\n",
       "      <td>...</td>\n",
       "    </tr>\n",
       "    <tr>\n",
       "      <th>6213</th>\n",
       "      <td>110</td>\n",
       "      <td>1</td>\n",
       "      <td>بِسْمِ اللَّهِ الرَّحْمَٰنِ الرَّحِيمِ إِذَا ج...</td>\n",
       "    </tr>\n",
       "    <tr>\n",
       "      <th>6216</th>\n",
       "      <td>111</td>\n",
       "      <td>1</td>\n",
       "      <td>بِسْمِ اللَّهِ الرَّحْمَٰنِ الرَّحِيمِ تَبَّتْ...</td>\n",
       "    </tr>\n",
       "    <tr>\n",
       "      <th>6221</th>\n",
       "      <td>112</td>\n",
       "      <td>1</td>\n",
       "      <td>بِسْمِ اللَّهِ الرَّحْمَٰنِ الرَّحِيمِ قُلْ هُ...</td>\n",
       "    </tr>\n",
       "    <tr>\n",
       "      <th>6225</th>\n",
       "      <td>113</td>\n",
       "      <td>1</td>\n",
       "      <td>بِسْمِ اللَّهِ الرَّحْمَٰنِ الرَّحِيمِ قُلْ أَ...</td>\n",
       "    </tr>\n",
       "    <tr>\n",
       "      <th>6230</th>\n",
       "      <td>114</td>\n",
       "      <td>1</td>\n",
       "      <td>بِسْمِ اللَّهِ الرَّحْمَٰنِ الرَّحِيمِ قُلْ أَ...</td>\n",
       "    </tr>\n",
       "  </tbody>\n",
       "</table>\n",
       "<p>114 rows × 3 columns</p>\n",
       "</div>"
      ],
      "text/plain": [
       "      chapter_num  verse_num  \\\n",
       "0               1          1   \n",
       "7               2          1   \n",
       "293             3          1   \n",
       "493             4          1   \n",
       "669             5          1   \n",
       "...           ...        ...   \n",
       "6213          110          1   \n",
       "6216          111          1   \n",
       "6221          112          1   \n",
       "6225          113          1   \n",
       "6230          114          1   \n",
       "\n",
       "                                                  verse  \n",
       "0                بِسْمِ اللَّهِ الرَّحْمَٰنِ الرَّحِيمِ  \n",
       "7            بِسْمِ اللَّهِ الرَّحْمَٰنِ الرَّحِيمِ الم  \n",
       "293          بِسْمِ اللَّهِ الرَّحْمَٰنِ الرَّحِيمِ الم  \n",
       "493   بِسْمِ اللَّهِ الرَّحْمَٰنِ الرَّحِيمِ يَا أَي...  \n",
       "669   بِسْمِ اللَّهِ الرَّحْمَٰنِ الرَّحِيمِ يَا أَي...  \n",
       "...                                                 ...  \n",
       "6213  بِسْمِ اللَّهِ الرَّحْمَٰنِ الرَّحِيمِ إِذَا ج...  \n",
       "6216  بِسْمِ اللَّهِ الرَّحْمَٰنِ الرَّحِيمِ تَبَّتْ...  \n",
       "6221  بِسْمِ اللَّهِ الرَّحْمَٰنِ الرَّحِيمِ قُلْ هُ...  \n",
       "6225  بِسْمِ اللَّهِ الرَّحْمَٰنِ الرَّحِيمِ قُلْ أَ...  \n",
       "6230  بِسْمِ اللَّهِ الرَّحْمَٰنِ الرَّحِيمِ قُلْ أَ...  \n",
       "\n",
       "[114 rows x 3 columns]"
      ]
     },
     "execution_count": 89,
     "metadata": {},
     "output_type": "execute_result"
    }
   ],
   "source": [
    "quran_A[quran_A.verse_num == 1] # "
   ]
  },
  {
   "cell_type": "markdown",
   "metadata": {},
   "source": [
    "- some scholars say that \"بِسْمِ اللَّهِ الرَّحْمَٰنِ الرَّحِيمِ\" is a part of each chapter, so it shoul be numbered.\n",
    "- other scholars say that it is not a part of each chapter, so it should not be counted.(this is why this verse is not at the first of each chapter in the translated version)\n",
    "- all scholars agree that it is a part of the first chapter (الفاتحة) and it is not a part of the #th chapter (التوبة).\n"
   ]
  },
  {
   "cell_type": "markdown",
   "metadata": {},
   "source": [
    "# English quran"
   ]
  },
  {
   "cell_type": "code",
   "execution_count": 32,
   "metadata": {},
   "outputs": [
    {
     "data": {
      "text/html": [
       "<div>\n",
       "<style scoped>\n",
       "    .dataframe tbody tr th:only-of-type {\n",
       "        vertical-align: middle;\n",
       "    }\n",
       "\n",
       "    .dataframe tbody tr th {\n",
       "        vertical-align: top;\n",
       "    }\n",
       "\n",
       "    .dataframe thead th {\n",
       "        text-align: right;\n",
       "    }\n",
       "</style>\n",
       "<table border=\"1\" class=\"dataframe\">\n",
       "  <thead>\n",
       "    <tr style=\"text-align: right;\">\n",
       "      <th></th>\n",
       "      <th>id</th>\n",
       "      <th>sura</th>\n",
       "      <th>aya</th>\n",
       "      <th>translation</th>\n",
       "      <th>footnotes</th>\n",
       "    </tr>\n",
       "  </thead>\n",
       "  <tbody>\n",
       "    <tr>\n",
       "      <th>0</th>\n",
       "      <td>1</td>\n",
       "      <td>1</td>\n",
       "      <td>1</td>\n",
       "      <td>(1) In the name of Allāh,[2] the Entirely Merc...</td>\n",
       "      <td>[2]- Allāh is a proper name belonging only to ...</td>\n",
       "    </tr>\n",
       "    <tr>\n",
       "      <th>1</th>\n",
       "      <td>2</td>\n",
       "      <td>1</td>\n",
       "      <td>2</td>\n",
       "      <td>(2) [All] praise is [due] to Allāh, Lord[4] of...</td>\n",
       "      <td>[4]- When referring to Allāh (subḥānahu wa taʿ...</td>\n",
       "    </tr>\n",
       "    <tr>\n",
       "      <th>2</th>\n",
       "      <td>3</td>\n",
       "      <td>1</td>\n",
       "      <td>3</td>\n",
       "      <td>(3) The Entirely Merciful, the Especially Merc...</td>\n",
       "      <td>NaN</td>\n",
       "    </tr>\n",
       "    <tr>\n",
       "      <th>3</th>\n",
       "      <td>4</td>\n",
       "      <td>1</td>\n",
       "      <td>4</td>\n",
       "      <td>(4) Sovereign of the Day of Recompense.[5]</td>\n",
       "      <td>[5]- i.e., repayment and compensation for what...</td>\n",
       "    </tr>\n",
       "    <tr>\n",
       "      <th>4</th>\n",
       "      <td>5</td>\n",
       "      <td>1</td>\n",
       "      <td>5</td>\n",
       "      <td>(5) It is You we worship and You we ask for help.</td>\n",
       "      <td>NaN</td>\n",
       "    </tr>\n",
       "  </tbody>\n",
       "</table>\n",
       "</div>"
      ],
      "text/plain": [
       "   id  sura  aya                                        translation  \\\n",
       "0   1     1    1  (1) In the name of Allāh,[2] the Entirely Merc...   \n",
       "1   2     1    2  (2) [All] praise is [due] to Allāh, Lord[4] of...   \n",
       "2   3     1    3  (3) The Entirely Merciful, the Especially Merc...   \n",
       "3   4     1    4         (4) Sovereign of the Day of Recompense.[5]   \n",
       "4   5     1    5  (5) It is You we worship and You we ask for help.   \n",
       "\n",
       "                                           footnotes  \n",
       "0  [2]- Allāh is a proper name belonging only to ...  \n",
       "1  [4]- When referring to Allāh (subḥānahu wa taʿ...  \n",
       "2                                                NaN  \n",
       "3  [5]- i.e., repayment and compensation for what...  \n",
       "4                                                NaN  "
      ]
     },
     "execution_count": 32,
     "metadata": {},
     "output_type": "execute_result"
    }
   ],
   "source": [
    "quran_E = pd.read_csv(\"../data/english_saheeh_v1.1.0-csv.1.csv\")\n",
    "quran_E.head()"
   ]
  },
  {
   "cell_type": "code",
   "execution_count": 33,
   "metadata": {},
   "outputs": [
    {
     "name": "stdout",
     "output_type": "stream",
     "text": [
      "<class 'pandas.core.frame.DataFrame'>\n",
      "RangeIndex: 6236 entries, 0 to 6235\n",
      "Data columns (total 5 columns):\n",
      " #   Column       Non-Null Count  Dtype \n",
      "---  ------       --------------  ----- \n",
      " 0   id           6236 non-null   int64 \n",
      " 1   sura         6236 non-null   int64 \n",
      " 2   aya          6236 non-null   int64 \n",
      " 3   translation  6236 non-null   object\n",
      " 4   footnotes    1612 non-null   object\n",
      "dtypes: int64(3), object(2)\n",
      "memory usage: 243.7+ KB\n"
     ]
    }
   ],
   "source": [
    "quran_E.info()"
   ]
  },
  {
   "cell_type": "code",
   "execution_count": 34,
   "metadata": {},
   "outputs": [],
   "source": [
    "# we are not intersted in the footnotes and id is just an index.\n",
    "quran_E.drop(columns=[\"footnotes\", \"id\"], inplace=True)"
   ]
  },
  {
   "cell_type": "code",
   "execution_count": 83,
   "metadata": {},
   "outputs": [
    {
     "data": {
      "text/plain": [
       "'(31) They have taken their scholars and monks as lords besides Allāh,[467] and [also] the Messiah, the son of Mary.[468] And they were not commanded except to worship one God; there is no deity except Him. Exalted is He above whatever they associate with Him.'"
      ]
     },
     "execution_count": 83,
     "metadata": {},
     "output_type": "execute_result"
    }
   ],
   "source": [
    "quran_E.translation[1265]"
   ]
  },
  {
   "cell_type": "code",
   "execution_count": 88,
   "metadata": {},
   "outputs": [
    {
     "data": {
      "text/plain": [
       "'they have taken their scholars and monks as lords besides allāh, and  the messiah, the son of mary. and they were not commanded except to worship one god; there is no deity except him. exalted is he above whatever they associate with him.'"
      ]
     },
     "execution_count": 88,
     "metadata": {},
     "output_type": "execute_result"
    }
   ],
   "source": [
    "def E_clean(verse):\n",
    "    verse = verse.lower()\n",
    "    \n",
    "    verse = re.sub(\"\\[.*?\\]\",\"\",verse)\n",
    "    verse = re.sub(\"[(0-9)]\",\"\",verse)\n",
    "    verse = verse.strip()\n",
    "    return(verse)\n",
    "\n",
    "E_clean(quran_E.translation[1265])"
   ]
  },
  {
   "cell_type": "code",
   "execution_count": null,
   "metadata": {},
   "outputs": [],
   "source": []
  }
 ],
 "metadata": {
  "interpreter": {
   "hash": "d4d1e4263499bec80672ea0156c357c1ee493ec2b1c70f0acce89fc37c4a6abe"
  },
  "kernelspec": {
   "display_name": "Python 3.9.7 ('base')",
   "language": "python",
   "name": "python3"
  },
  "language_info": {
   "codemirror_mode": {
    "name": "ipython",
    "version": 3
   },
   "file_extension": ".py",
   "mimetype": "text/x-python",
   "name": "python",
   "nbconvert_exporter": "python",
   "pygments_lexer": "ipython3",
   "version": "3.9.7"
  },
  "orig_nbformat": 4
 },
 "nbformat": 4,
 "nbformat_minor": 2
}
